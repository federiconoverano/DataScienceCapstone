{
    "cells": [
        {
            "cell_type": "markdown",
            "metadata": {
                "collapsed": true
            },
            "source": "# Applied Data Science Capstone Project Week1\n\nThis notebook realizes few instructions and prototypes GitHub integration to publish final outcome of the Capstone project"
        },
        {
            "cell_type": "code",
            "execution_count": 13,
            "metadata": {},
            "outputs": [
                {
                    "name": "stdout",
                    "output_type": "stream",
                    "text": "\nMy numpy array: \n [0 1 2 3]\n\nMy pandas dataframe: \n   Letters  Numbers\n0       A        1\n1       B        2\n2       C        3\n3       D        4\n\nHello Capstone Project Course!\n"
                }
            ],
            "source": "import numpy as np\nimport pandas as pd\n\nA = np.array([0,1,2,3])\nprint ('\\nMy numpy array: \\n',A)\n\ndf = pd.DataFrame({'Letters':['A', 'B', 'C', 'D'], 'Numbers':[1, 2, 3, 4]})\n\nprint('\\nMy pandas dataframe: \\n', df)\n\nprint ('\\nHello Capstone Project Course!')\n\n"
        },
        {
            "cell_type": "code",
            "execution_count": null,
            "metadata": {},
            "outputs": [],
            "source": ""
        }
    ],
    "metadata": {
        "kernelspec": {
            "display_name": "Python 3.6",
            "language": "python",
            "name": "python3"
        },
        "language_info": {
            "codemirror_mode": {
                "name": "ipython",
                "version": 3
            },
            "file_extension": ".py",
            "mimetype": "text/x-python",
            "name": "python",
            "nbconvert_exporter": "python",
            "pygments_lexer": "ipython3",
            "version": "3.6.9"
        }
    },
    "nbformat": 4,
    "nbformat_minor": 1
}