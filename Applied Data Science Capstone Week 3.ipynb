{
    "cells": [
        {
            "cell_type": "markdown",
            "metadata": {
                "collapsed": true
            },
            "source": "# Segmenting and Clustering Neighborhoods in Toronto"
        },
        {
            "cell_type": "markdown",
            "metadata": {},
            "source": "***\n\n## Section 1 of the assignment\n\nScraping the wikipedia page and getting the data into a dataframe"
        },
        {
            "cell_type": "code",
            "execution_count": 1,
            "metadata": {},
            "outputs": [],
            "source": "#Importing the libraries I am going to use\nimport urllib.request\nfrom bs4 import BeautifulSoup\nimport pandas as pd\n"
        },
        {
            "cell_type": "code",
            "execution_count": 2,
            "metadata": {},
            "outputs": [],
            "source": "# specify which URL/web page we are going to be scraping\nurl = \"https://en.wikipedia.org/wiki/List_of_postal_codes_of_Canada:_M\"\n# open the url using urllib.request and put the HTML into the page variable\npage = urllib.request.urlopen(url)"
        },
        {
            "cell_type": "code",
            "execution_count": 3,
            "metadata": {},
            "outputs": [],
            "source": "# parse the HTML from our URL into the BeautifulSoup parse tree format\nsoup = BeautifulSoup(page, \"lxml\")"
        },
        {
            "cell_type": "code",
            "execution_count": 4,
            "metadata": {},
            "outputs": [
                {
                    "data": {
                        "text/plain": "[<table class=\"wikitable sortable\">\n <tbody><tr>\n <th>Postal Code\n </th>\n <th>Borough\n </th>\n <th>Neighbourhood\n </th></tr>\n <tr>\n <td>M1A\n </td>\n <td>Not assigned\n </td>\n <td>Not assigned\n </td></tr>\n <tr>\n <td>M2A\n </td>\n <td>Not assigned\n </td>\n <td>Not assigned\n </td></tr>\n <tr>\n <td>M3A\n </td>\n <td>North York\n </td>\n <td>Parkwoods\n </td></tr>\n <tr>\n <td>M4A\n </td>\n <td>North York\n </td>\n <td>Victoria Village\n </td></tr>\n <tr>\n <td>M5A\n </td>\n <td>Downtown Toronto\n </td>\n <td>Regent Park, Harbourfront\n </td></tr>\n <tr>\n <td>M6A\n </td>\n <td>North York\n </td>\n <td>Lawrence Manor, Lawrence Heights\n </td></tr>\n <tr>\n <td>M7A\n </td>\n <td>Downtown Toronto\n </td>\n <td>Queen's Park, Ontario Provincial Government\n </td></tr>\n <tr>\n <td>M8A\n </td>\n <td>Not assigned\n </td>\n <td>Not assigned\n </td></tr>\n <tr>\n <td>M9A\n </td>\n <td>Etobicoke\n </td>\n <td>Islington Avenue, Humber Valley Village\n </td></tr>\n <tr>\n <td>M1B\n </td>\n <td>Scarborough\n </td>\n <td>Malvern, Rouge\n </td></tr>\n <tr>\n <td>M2B\n </td>\n <td>Not assigned\n </td>\n <td>Not assigned\n </td></tr>\n <tr>\n <td>M3B\n </td>\n <td>North York\n </td>\n <td>Don Mills\n </td></tr>\n <tr>\n <td>M4B\n </td>\n <td>East York\n </td>\n <td>Parkview Hill, Woodbine Gardens\n </td></tr>\n <tr>\n <td>M5B\n </td>\n <td>Downtown Toronto\n </td>\n <td>Garden District, Ryerson\n </td></tr>\n <tr>\n <td>M6B\n </td>\n <td>North York\n </td>\n <td>Glencairn\n </td></tr>\n <tr>\n <td>M7B\n </td>\n <td>Not assigned\n </td>\n <td>Not assigned\n </td></tr>\n <tr>\n <td>M8B\n </td>\n <td>Not assigned\n </td>\n <td>Not assigned\n </td></tr>\n <tr>\n <td>M9B\n </td>\n <td>Etobicoke\n </td>\n <td>West Deane Park, Princess Gardens, Martin Grove, Islington, Cloverdale\n </td></tr>\n <tr>\n <td>M1C\n </td>\n <td>Scarborough\n </td>\n <td>Rouge Hill, Port Union, Highland Creek\n </td></tr>\n <tr>\n <td>M2C\n </td>\n <td>Not assigned\n </td>\n <td>Not assigned\n </td></tr>\n <tr>\n <td>M3C\n </td>\n <td>North York\n </td>\n <td>Don Mills\n </td></tr>\n <tr>\n <td>M4C\n </td>\n <td>East York\n </td>\n <td>Woodbine Heights\n </td></tr>\n <tr>\n <td>M5C\n </td>\n <td>Downtown Toronto\n </td>\n <td>St. James Town\n </td></tr>\n <tr>\n <td>M6C\n </td>\n <td>York\n </td>\n <td>Humewood-Cedarvale\n </td></tr>\n <tr>\n <td>M7C\n </td>\n <td>Not assigned\n </td>\n <td>Not assigned\n </td></tr>\n <tr>\n <td>M8C\n </td>\n <td>Not assigned\n </td>\n <td>Not assigned\n </td></tr>\n <tr>\n <td>M9C\n </td>\n <td>Etobicoke\n </td>\n <td>Eringate, Bloordale Gardens, Old Burnhamthorpe, Markland Wood\n </td></tr>\n <tr>\n <td>M1E\n </td>\n <td>Scarborough\n </td>\n <td>Guildwood, Morningside, West Hill\n </td></tr>\n <tr>\n <td>M2E\n </td>\n <td>Not assigned\n </td>\n <td>Not assigned\n </td></tr>\n <tr>\n <td>M3E\n </td>\n <td>Not assigned\n </td>\n <td>Not assigned\n </td></tr>\n <tr>\n <td>M4E\n </td>\n <td>East Toronto\n </td>\n <td>The Beaches\n </td></tr>\n <tr>\n <td>M5E\n </td>\n <td>Downtown Toronto\n </td>\n <td>Berczy Park\n </td></tr>\n <tr>\n <td>M6E\n </td>\n <td>York\n </td>\n <td>Caledonia-Fairbanks\n </td></tr>\n <tr>\n <td>M7E\n </td>\n <td>Not assigned\n </td>\n <td>Not assigned\n </td></tr>\n <tr>\n <td>M8E\n </td>\n <td>Not assigned\n </td>\n <td>Not assigned\n </td></tr>\n <tr>\n <td>M9E\n </td>\n <td>Not assigned\n </td>\n <td>Not assigned\n </td></tr>\n <tr>\n <td>M1G\n </td>\n <td>Scarborough\n </td>\n <td>Woburn\n </td></tr>\n <tr>\n <td>M2G\n </td>\n <td>Not assigned\n </td>\n <td>Not assigned\n </td></tr>\n <tr>\n <td>M3G\n </td>\n <td>Not assigned\n </td>\n <td>Not assigned\n </td></tr>\n <tr>\n <td>M4G\n </td>\n <td>East York\n </td>\n <td>Leaside\n </td></tr>\n <tr>\n <td>M5G\n </td>\n <td>Downtown Toronto\n </td>\n <td>Central Bay Street\n </td></tr>\n <tr>\n <td>M6G\n </td>\n <td>Downtown Toronto\n </td>\n <td>Christie\n </td></tr>\n <tr>\n <td>M7G\n </td>\n <td>Not assigned\n </td>\n <td>Not assigned\n </td></tr>\n <tr>\n <td>M8G\n </td>\n <td>Not assigned\n </td>\n <td>Not assigned\n </td></tr>\n <tr>\n <td>M9G\n </td>\n <td>Not assigned\n </td>\n <td>Not assigned\n </td></tr>\n <tr>\n <td>M1H\n </td>\n <td>Scarborough\n </td>\n <td>Cedarbrae\n </td></tr>\n <tr>\n <td>M2H\n </td>\n <td>North York\n </td>\n <td>Hillcrest Village\n </td></tr>\n <tr>\n <td>M3H\n </td>\n <td>North York\n </td>\n <td>Bathurst Manor, Wilson Heights, Downsview North\n </td></tr>\n <tr>\n <td>M4H\n </td>\n <td>East York\n </td>\n <td>Thorncliffe Park\n </td></tr>\n <tr>\n <td>M5H\n </td>\n <td>Downtown Toronto\n </td>\n <td>Richmond, Adelaide, King\n </td></tr>\n <tr>\n <td>M6H\n </td>\n <td>West Toronto\n </td>\n <td>Dufferin, Dovercourt Village\n </td></tr>\n <tr>\n <td>M7H\n </td>\n <td>Not assigned\n </td>\n <td>Not assigned\n </td></tr>\n <tr>\n <td>M8H\n </td>\n <td>Not assigned\n </td>\n <td>Not assigned\n </td></tr>\n <tr>\n <td>M9H\n </td>\n <td>Not assigned\n </td>\n <td>Not assigned\n </td></tr>\n <tr>\n <td>M1J\n </td>\n <td>Scarborough\n </td>\n <td>Scarborough Village\n </td></tr>\n <tr>\n <td>M2J\n </td>\n <td>North York\n </td>\n <td>Fairview, Henry Farm, Oriole\n </td></tr>\n <tr>\n <td>M3J\n </td>\n <td>North York\n </td>\n <td>Northwood Park, York University\n </td></tr>\n <tr>\n <td>M4J\n </td>\n <td>East York\n </td>\n <td>East Toronto, Broadview North (Old East York)\n </td></tr>\n <tr>\n <td>M5J\n </td>\n <td>Downtown Toronto\n </td>\n <td>Harbourfront East, Union Station, Toronto Islands\n </td></tr>\n <tr>\n <td>M6J\n </td>\n <td>West Toronto\n </td>\n <td>Little Portugal, Trinity\n </td></tr>\n <tr>\n <td>M7J\n </td>\n <td>Not assigned\n </td>\n <td>Not assigned\n </td></tr>\n <tr>\n <td>M8J\n </td>\n <td>Not assigned\n </td>\n <td>Not assigned\n </td></tr>\n <tr>\n <td>M9J\n </td>\n <td>Not assigned\n </td>\n <td>Not assigned\n </td></tr>\n <tr>\n <td>M1K\n </td>\n <td>Scarborough\n </td>\n <td>Kennedy Park, Ionview, East Birchmount Park\n </td></tr>\n <tr>\n <td>M2K\n </td>\n <td>North York\n </td>\n <td>Bayview Village\n </td></tr>\n <tr>\n <td>M3K\n </td>\n <td>North York\n </td>\n <td>Downsview\n </td></tr>\n <tr>\n <td>M4K\n </td>\n <td>East Toronto\n </td>\n <td>The Danforth West, Riverdale\n </td></tr>\n <tr>\n <td>M5K\n </td>\n <td>Downtown Toronto\n </td>\n <td>Toronto Dominion Centre, Design Exchange\n </td></tr>\n <tr>\n <td>M6K\n </td>\n <td>West Toronto\n </td>\n <td>Brockton, Parkdale Village, Exhibition Place\n </td></tr>\n <tr>\n <td>M7K\n </td>\n <td>Not assigned\n </td>\n <td>Not assigned\n </td></tr>\n <tr>\n <td>M8K\n </td>\n <td>Not assigned\n </td>\n <td>Not assigned\n </td></tr>\n <tr>\n <td>M9K\n </td>\n <td>Not assigned\n </td>\n <td>Not assigned\n </td></tr>\n <tr>\n <td>M1L\n </td>\n <td>Scarborough\n </td>\n <td>Golden Mile, Clairlea, Oakridge\n </td></tr>\n <tr>\n <td>M2L\n </td>\n <td>North York\n </td>\n <td>York Mills, Silver Hills\n </td></tr>\n <tr>\n <td>M3L\n </td>\n <td>North York\n </td>\n <td>Downsview\n </td></tr>\n <tr>\n <td>M4L\n </td>\n <td>East Toronto\n </td>\n <td>India Bazaar, The Beaches West\n </td></tr>\n <tr>\n <td>M5L\n </td>\n <td>Downtown Toronto\n </td>\n <td>Commerce Court, Victoria Hotel\n </td></tr>\n <tr>\n <td>M6L\n </td>\n <td>North York\n </td>\n <td>North Park, Maple Leaf Park, Upwood Park\n </td></tr>\n <tr>\n <td>M7L\n </td>\n <td>Not assigned\n </td>\n <td>Not assigned\n </td></tr>\n <tr>\n <td>M8L\n </td>\n <td>Not assigned\n </td>\n <td>Not assigned\n </td></tr>\n <tr>\n <td>M9L\n </td>\n <td>North York\n </td>\n <td>Humber Summit\n </td></tr>\n <tr>\n <td>M1M\n </td>\n <td>Scarborough\n </td>\n <td>Cliffside, Cliffcrest, Scarborough Village West\n </td></tr>\n <tr>\n <td>M2M\n </td>\n <td>North York\n </td>\n <td>Willowdale, Newtonbrook\n </td></tr>\n <tr>\n <td>M3M\n </td>\n <td>North York\n </td>\n <td>Downsview\n </td></tr>\n <tr>\n <td>M4M\n </td>\n <td>East Toronto\n </td>\n <td>Studio District\n </td></tr>\n <tr>\n <td>M5M\n </td>\n <td>North York\n </td>\n <td>Bedford Park, Lawrence Manor East\n </td></tr>\n <tr>\n <td>M6M\n </td>\n <td>York\n </td>\n <td>Del Ray, Mount Dennis, Keelsdale and Silverthorn\n </td></tr>\n <tr>\n <td>M7M\n </td>\n <td>Not assigned\n </td>\n <td>Not assigned\n </td></tr>\n <tr>\n <td>M8M\n </td>\n <td>Not assigned\n </td>\n <td>Not assigned\n </td></tr>\n <tr>\n <td>M9M\n </td>\n <td>North York\n </td>\n <td>Humberlea, Emery\n </td></tr>\n <tr>\n <td>M1N\n </td>\n <td>Scarborough\n </td>\n <td>Birch Cliff, Cliffside West\n </td></tr>\n <tr>\n <td>M2N\n </td>\n <td>North York\n </td>\n <td>Willowdale, Willowdale East\n </td></tr>\n <tr>\n <td>M3N\n </td>\n <td>North York\n </td>\n <td>Downsview\n </td></tr>\n <tr>\n <td>M4N\n </td>\n <td>Central Toronto\n </td>\n <td>Lawrence Park\n </td></tr>\n <tr>\n <td>M5N\n </td>\n <td>Central Toronto\n </td>\n <td>Roselawn\n </td></tr>\n <tr>\n <td>M6N\n </td>\n <td>York\n </td>\n <td>Runnymede, The Junction North\n </td></tr>\n <tr>\n <td>M7N\n </td>\n <td>Not assigned\n </td>\n <td>Not assigned\n </td></tr>\n <tr>\n <td>M8N\n </td>\n <td>Not assigned\n </td>\n <td>Not assigned\n </td></tr>\n <tr>\n <td>M9N\n </td>\n <td>York\n </td>\n <td>Weston\n </td></tr>\n <tr>\n <td>M1P\n </td>\n <td>Scarborough\n </td>\n <td>Dorset Park, Wexford Heights, Scarborough Town Centre\n </td></tr>\n <tr>\n <td>M2P\n </td>\n <td>North York\n </td>\n <td>York Mills West\n </td></tr>\n <tr>\n <td>M3P\n </td>\n <td>Not assigned\n </td>\n <td>Not assigned\n </td></tr>\n <tr>\n <td>M4P\n </td>\n <td>Central Toronto\n </td>\n <td>Davisville North\n </td></tr>\n <tr>\n <td>M5P\n </td>\n <td>Central Toronto\n </td>\n <td>Forest Hill North &amp; West, Forest Hill Road Park\n </td></tr>\n <tr>\n <td>M6P\n </td>\n <td>West Toronto\n </td>\n <td>High Park, The Junction South\n </td></tr>\n <tr>\n <td>M7P\n </td>\n <td>Not assigned\n </td>\n <td>Not assigned\n </td></tr>\n <tr>\n <td>M8P\n </td>\n <td>Not assigned\n </td>\n <td>Not assigned\n </td></tr>\n <tr>\n <td>M9P\n </td>\n <td>Etobicoke\n </td>\n <td>Westmount\n </td></tr>\n <tr>\n <td>M1R\n </td>\n <td>Scarborough\n </td>\n <td>Wexford, Maryvale\n </td></tr>\n <tr>\n <td>M2R\n </td>\n <td>North York\n </td>\n <td>Willowdale, Willowdale West\n </td></tr>\n <tr>\n <td>M3R\n </td>\n <td>Not assigned\n </td>\n <td>Not assigned\n </td></tr>\n <tr>\n <td>M4R\n </td>\n <td>Central Toronto\n </td>\n <td>North Toronto West,  Lawrence Park\n </td></tr>\n <tr>\n <td>M5R\n </td>\n <td>Central Toronto\n </td>\n <td>The Annex, North Midtown, Yorkville\n </td></tr>\n <tr>\n <td>M6R\n </td>\n <td>West Toronto\n </td>\n <td>Parkdale, Roncesvalles\n </td></tr>\n <tr>\n <td>M7R\n </td>\n <td>Mississauga\n </td>\n <td>Canada Post Gateway Processing Centre\n </td></tr>\n <tr>\n <td>M8R\n </td>\n <td>Not assigned\n </td>\n <td>Not assigned\n </td></tr>\n <tr>\n <td>M9R\n </td>\n <td>Etobicoke\n </td>\n <td>Kingsview Village, St. Phillips, Martin Grove Gardens, Richview Gardens\n </td></tr>\n <tr>\n <td>M1S\n </td>\n <td>Scarborough\n </td>\n <td>Agincourt\n </td></tr>\n <tr>\n <td>M2S\n </td>\n <td>Not assigned\n </td>\n <td>Not assigned\n </td></tr>\n <tr>\n <td>M3S\n </td>\n <td>Not assigned\n </td>\n <td>Not assigned\n </td></tr>\n <tr>\n <td>M4S\n </td>\n <td>Central Toronto\n </td>\n <td>Davisville\n </td></tr>\n <tr>\n <td>M5S\n </td>\n <td>Downtown Toronto\n </td>\n <td>University of Toronto, Harbord\n </td></tr>\n <tr>\n <td>M6S\n </td>\n <td>West Toronto\n </td>\n <td>Runnymede, Swansea\n </td></tr>\n <tr>\n <td>M7S\n </td>\n <td>Not assigned\n </td>\n <td>Not assigned\n </td></tr>\n <tr>\n <td>M8S\n </td>\n <td>Not assigned\n </td>\n <td>Not assigned\n </td></tr>\n <tr>\n <td>M9S\n </td>\n <td>Not assigned\n </td>\n <td>Not assigned\n </td></tr>\n <tr>\n <td>M1T\n </td>\n <td>Scarborough\n </td>\n <td>Clarks Corners, Tam O'Shanter, Sullivan\n </td></tr>\n <tr>\n <td>M2T\n </td>\n <td>Not assigned\n </td>\n <td>Not assigned\n </td></tr>\n <tr>\n <td>M3T\n </td>\n <td>Not assigned\n </td>\n <td>Not assigned\n </td></tr>\n <tr>\n <td>M4T\n </td>\n <td>Central Toronto\n </td>\n <td>Moore Park, Summerhill East\n </td></tr>\n <tr>\n <td>M5T\n </td>\n <td>Downtown Toronto\n </td>\n <td>Kensington Market, Chinatown, Grange Park\n </td></tr>\n <tr>\n <td>M6T\n </td>\n <td>Not assigned\n </td>\n <td>Not assigned\n </td></tr>\n <tr>\n <td>M7T\n </td>\n <td>Not assigned\n </td>\n <td>Not assigned\n </td></tr>\n <tr>\n <td>M8T\n </td>\n <td>Not assigned\n </td>\n <td>Not assigned\n </td></tr>\n <tr>\n <td>M9T\n </td>\n <td>Not assigned\n </td>\n <td>Not assigned\n </td></tr>\n <tr>\n <td>M1V\n </td>\n <td>Scarborough\n </td>\n <td>Milliken, Agincourt North, Steeles East, L'Amoreaux East\n </td></tr>\n <tr>\n <td>M2V\n </td>\n <td>Not assigned\n </td>\n <td>Not assigned\n </td></tr>\n <tr>\n <td>M3V\n </td>\n <td>Not assigned\n </td>\n <td>Not assigned\n </td></tr>\n <tr>\n <td>M4V\n </td>\n <td>Central Toronto\n </td>\n <td>Summerhill West, Rathnelly, South Hill, Forest Hill SE, Deer Park\n </td></tr>\n <tr>\n <td>M5V\n </td>\n <td>Downtown Toronto\n </td>\n <td>CN Tower, King and Spadina, Railway Lands, Harbourfront West, Bathurst Quay, South Niagara, Island airport\n </td></tr>\n <tr>\n <td>M6V\n </td>\n <td>Not assigned\n </td>\n <td>Not assigned\n </td></tr>\n <tr>\n <td>M7V\n </td>\n <td>Not assigned\n </td>\n <td>Not assigned\n </td></tr>\n <tr>\n <td>M8V\n </td>\n <td>Etobicoke\n </td>\n <td>New Toronto, Mimico South, Humber Bay Shores\n </td></tr>\n <tr>\n <td>M9V\n </td>\n <td>Etobicoke\n </td>\n <td>South Steeles, Silverstone, Humbergate, Jamestown, Mount Olive, Beaumond Heights, Thistletown, Albion Gardens\n </td></tr>\n <tr>\n <td>M1W\n </td>\n <td>Scarborough\n </td>\n <td>Steeles West, L'Amoreaux West\n </td></tr>\n <tr>\n <td>M2W\n </td>\n <td>Not assigned\n </td>\n <td>Not assigned\n </td></tr>\n <tr>\n <td>M3W\n </td>\n <td>Not assigned\n </td>\n <td>Not assigned\n </td></tr>\n <tr>\n <td>M4W\n </td>\n <td>Downtown Toronto\n </td>\n <td>Rosedale\n </td></tr>\n <tr>\n <td>M5W\n </td>\n <td>Downtown Toronto\n </td>\n <td>Stn A PO Boxes\n </td></tr>\n <tr>\n <td>M6W\n </td>\n <td>Not assigned\n </td>\n <td>Not assigned\n </td></tr>\n <tr>\n <td>M7W\n </td>\n <td>Not assigned\n </td>\n <td>Not assigned\n </td></tr>\n <tr>\n <td>M8W\n </td>\n <td>Etobicoke\n </td>\n <td>Alderwood, Long Branch\n </td></tr>\n <tr>\n <td>M9W\n </td>\n <td>Etobicoke\n </td>\n <td>Northwest, West Humber - Clairville\n </td></tr>\n <tr>\n <td>M1X\n </td>\n <td>Scarborough\n </td>\n <td>Upper Rouge\n </td></tr>\n <tr>\n <td>M2X\n </td>\n <td>Not assigned\n </td>\n <td>Not assigned\n </td></tr>\n <tr>\n <td>M3X\n </td>\n <td>Not assigned\n </td>\n <td>Not assigned\n </td></tr>\n <tr>\n <td>M4X\n </td>\n <td>Downtown Toronto\n </td>\n <td>St. James Town, Cabbagetown\n </td></tr>\n <tr>\n <td>M5X\n </td>\n <td>Downtown Toronto\n </td>\n <td>First Canadian Place, Underground city\n </td></tr>\n <tr>\n <td>M6X\n </td>\n <td>Not assigned\n </td>\n <td>Not assigned\n </td></tr>\n <tr>\n <td>M7X\n </td>\n <td>Not assigned\n </td>\n <td>Not assigned\n </td></tr>\n <tr>\n <td>M8X\n </td>\n <td>Etobicoke\n </td>\n <td>The Kingsway, Montgomery Road, Old Mill North\n </td></tr>\n <tr>\n <td>M9X\n </td>\n <td>Not assigned\n </td>\n <td>Not assigned\n </td></tr>\n <tr>\n <td>M1Y\n </td>\n <td>Not assigned\n </td>\n <td>Not assigned\n </td></tr>\n <tr>\n <td>M2Y\n </td>\n <td>Not assigned\n </td>\n <td>Not assigned\n </td></tr>\n <tr>\n <td>M3Y\n </td>\n <td>Not assigned\n </td>\n <td>Not assigned\n </td></tr>\n <tr>\n <td>M4Y\n </td>\n <td>Downtown Toronto\n </td>\n <td>Church and Wellesley\n </td></tr>\n <tr>\n <td>M5Y\n </td>\n <td>Not assigned\n </td>\n <td>Not assigned\n </td></tr>\n <tr>\n <td>M6Y\n </td>\n <td>Not assigned\n </td>\n <td>Not assigned\n </td></tr>\n <tr>\n <td>M7Y\n </td>\n <td>East Toronto\n </td>\n <td>Business reply mail Processing Centre, South Central Letter Processing Plant Toronto\n </td></tr>\n <tr>\n <td>M8Y\n </td>\n <td>Etobicoke\n </td>\n <td>Old Mill South, King's Mill Park, Sunnylea, Humber Bay, Mimico NE, The Queensway East, Royal York South East, Kingsway Park South East\n </td></tr>\n <tr>\n <td>M9Y\n </td>\n <td>Not assigned\n </td>\n <td>Not assigned\n </td></tr>\n <tr>\n <td>M1Z\n </td>\n <td>Not assigned\n </td>\n <td>Not assigned\n </td></tr>\n <tr>\n <td>M2Z\n </td>\n <td>Not assigned\n </td>\n <td>Not assigned\n </td></tr>\n <tr>\n <td>M3Z\n </td>\n <td>Not assigned\n </td>\n <td>Not assigned\n </td></tr>\n <tr>\n <td>M4Z\n </td>\n <td>Not assigned\n </td>\n <td>Not assigned\n </td></tr>\n <tr>\n <td>M5Z\n </td>\n <td>Not assigned\n </td>\n <td>Not assigned\n </td></tr>\n <tr>\n <td>M6Z\n </td>\n <td>Not assigned\n </td>\n <td>Not assigned\n </td></tr>\n <tr>\n <td>M7Z\n </td>\n <td>Not assigned\n </td>\n <td>Not assigned\n </td></tr>\n <tr>\n <td>M8Z\n </td>\n <td>Etobicoke\n </td>\n <td>Mimico NW, The Queensway West, South of Bloor, Kingsway Park South West, Royal York South West\n </td></tr>\n <tr>\n <td>M9Z\n </td>\n <td>Not assigned\n </td>\n <td>Not assigned\n </td></tr></tbody></table>, <table class=\"navbox\">\n <tbody><tr>\n <td style=\"width:36px; text-align:center\"><a class=\"image\" href=\"/wiki/File:Flag_of_Canada.svg\" title=\"Flag of Canada\"><img alt=\"Flag of Canada\" data-file-height=\"600\" data-file-width=\"1200\" decoding=\"async\" height=\"18\" src=\"//upload.wikimedia.org/wikipedia/en/thumb/c/cf/Flag_of_Canada.svg/36px-Flag_of_Canada.svg.png\" srcset=\"//upload.wikimedia.org/wikipedia/en/thumb/c/cf/Flag_of_Canada.svg/54px-Flag_of_Canada.svg.png 1.5x, //upload.wikimedia.org/wikipedia/en/thumb/c/cf/Flag_of_Canada.svg/72px-Flag_of_Canada.svg.png 2x\" width=\"36\"/></a>\n </td>\n <th class=\"navbox-title\" style=\"font-size:110%\"><a href=\"/wiki/Postal_codes_in_Canada\" title=\"Postal codes in Canada\">Canadian postal codes</a>\n </th>\n <td style=\"width:36px; text-align:center\"><a class=\"image\" href=\"/wiki/File:Canadian_postal_district_map_(without_legends).svg\"><img alt=\"Canadian postal district map (without legends).svg\" data-file-height=\"846\" data-file-width=\"1000\" decoding=\"async\" height=\"18\" src=\"//upload.wikimedia.org/wikipedia/commons/thumb/e/eb/Canadian_postal_district_map_%28without_legends%29.svg/21px-Canadian_postal_district_map_%28without_legends%29.svg.png\" srcset=\"//upload.wikimedia.org/wikipedia/commons/thumb/e/eb/Canadian_postal_district_map_%28without_legends%29.svg/32px-Canadian_postal_district_map_%28without_legends%29.svg.png 1.5x, //upload.wikimedia.org/wikipedia/commons/thumb/e/eb/Canadian_postal_district_map_%28without_legends%29.svg/43px-Canadian_postal_district_map_%28without_legends%29.svg.png 2x\" width=\"21\"/></a>\n </td></tr>\n <tr>\n <td colspan=\"3\" style=\"text-align:center; font-size: 100%;\">\n <table cellspacing=\"0\" style=\"background-color: #F8F8F8;\" width=\"100%\">\n <tbody><tr>\n <td style=\"text-align:center; border:1px solid #aaa;\"><a href=\"/wiki/Newfoundland_and_Labrador\" title=\"Newfoundland and Labrador\">NL</a>\n </td>\n <td style=\"text-align:center; border:1px solid #aaa;\"><a href=\"/wiki/Nova_Scotia\" title=\"Nova Scotia\">NS</a>\n </td>\n <td style=\"text-align:center; border:1px solid #aaa;\"><a href=\"/wiki/Prince_Edward_Island\" title=\"Prince Edward Island\">PE</a>\n </td>\n <td style=\"text-align:center; border:1px solid #aaa;\"><a href=\"/wiki/New_Brunswick\" title=\"New Brunswick\">NB</a>\n </td>\n <td colspan=\"3\" style=\"text-align:center; border:1px solid #aaa;\"><a href=\"/wiki/Quebec\" title=\"Quebec\">QC</a>\n </td>\n <td colspan=\"5\" style=\"text-align:center; border:1px solid #aaa;\"><a href=\"/wiki/Ontario\" title=\"Ontario\">ON</a>\n </td>\n <td style=\"text-align:center; border:1px solid #aaa;\"><a href=\"/wiki/Manitoba\" title=\"Manitoba\">MB</a>\n </td>\n <td style=\"text-align:center; border:1px solid #aaa;\"><a href=\"/wiki/Saskatchewan\" title=\"Saskatchewan\">SK</a>\n </td>\n <td style=\"text-align:center; border:1px solid #aaa;\"><a href=\"/wiki/Alberta\" title=\"Alberta\">AB</a>\n </td>\n <td style=\"text-align:center; border:1px solid #aaa;\"><a href=\"/wiki/British_Columbia\" title=\"British Columbia\">BC</a>\n </td>\n <td style=\"text-align:center; border:1px solid #aaa;\"><a href=\"/wiki/Nunavut\" title=\"Nunavut\">NU</a>/<a href=\"/wiki/Northwest_Territories\" title=\"Northwest Territories\">NT</a>\n </td>\n <td style=\"text-align:center; border:1px solid #aaa;\"><a href=\"/wiki/Yukon\" title=\"Yukon\">YT</a>\n </td></tr>\n <tr>\n <td align=\"center\" style=\"border: 1px solid #FF0000; background-color: #FFE0E0; font-size: 135%;\" width=\"5%\"><a href=\"/wiki/List_of_postal_codes_of_Canada:_A\" title=\"List of postal codes of Canada: A\">A</a>\n </td>\n <td align=\"center\" style=\"border: 1px solid #FF4000; background-color: #FFE8E0; font-size: 135%;\" width=\"5%\"><a href=\"/wiki/List_of_postal_codes_of_Canada:_B\" title=\"List of postal codes of Canada: B\">B</a>\n </td>\n <td align=\"center\" style=\"border: 1px solid #FF8000; background-color: #FFF0E0; font-size: 135%;\" width=\"5%\"><a href=\"/wiki/List_of_postal_codes_of_Canada:_C\" title=\"List of postal codes of Canada: C\">C</a>\n </td>\n <td align=\"center\" style=\"border: 1px solid #FFC000; background-color: #FFF8E0; font-size: 135%;\" width=\"5%\"><a href=\"/wiki/List_of_postal_codes_of_Canada:_E\" title=\"List of postal codes of Canada: E\">E</a>\n </td>\n <td align=\"center\" style=\"border: 1px solid #FFFF00; background-color: #FFFFE0; font-size: 135%;\" width=\"5%\"><a href=\"/wiki/List_of_postal_codes_of_Canada:_G\" title=\"List of postal codes of Canada: G\">G</a>\n </td>\n <td align=\"center\" style=\"border: 1px solid #C0FF00; background-color: #F8FFE0; font-size: 135%;\" width=\"5%\"><a href=\"/wiki/List_of_postal_codes_of_Canada:_H\" title=\"List of postal codes of Canada: H\">H</a>\n </td>\n <td align=\"center\" style=\"border: 1px solid #80FF00; background-color: #F0FFE0; font-size: 135%;\" width=\"5%\"><a href=\"/wiki/List_of_postal_codes_of_Canada:_J\" title=\"List of postal codes of Canada: J\">J</a>\n </td>\n <td align=\"center\" style=\"border: 1px solid #00FF00; background-color: #E0FFE0; font-size: 135%;\" width=\"5%\"><a href=\"/wiki/List_of_postal_codes_of_Canada:_K\" title=\"List of postal codes of Canada: K\">K</a>\n </td>\n <td align=\"center\" style=\"border: 1px solid #00FF80; background-color: #E0FFF0; font-size: 135%;\" width=\"5%\"><a href=\"/wiki/List_of_postal_codes_of_Canada:_L\" title=\"List of postal codes of Canada: L\">L</a>\n </td>\n <td align=\"center\" style=\"border: 1px solid #E0FFF8; background-color: #00FFC0; font-size: 135%; color: black;\" width=\"5%\"><a class=\"mw-selflink selflink\">M</a>\n </td>\n <td align=\"center\" style=\"border: 1px solid #00FFE0; background-color: #E0FFFC; font-size: 135%;\" width=\"5%\"><a href=\"/wiki/List_of_postal_codes_of_Canada:_N\" title=\"List of postal codes of Canada: N\">N</a>\n </td>\n <td align=\"center\" style=\"border: 1px solid #00FFFF; background-color: #E0FFFF; font-size: 135%;\" width=\"5%\"><a href=\"/wiki/List_of_postal_codes_of_Canada:_P\" title=\"List of postal codes of Canada: P\">P</a>\n </td>\n <td align=\"center\" style=\"border: 1px solid #00C0FF; background-color: #E0F8FF; font-size: 135%;\" width=\"5%\"><a href=\"/wiki/List_of_postal_codes_of_Canada:_R\" title=\"List of postal codes of Canada: R\">R</a>\n </td>\n <td align=\"center\" style=\"border: 1px solid #0080FF; background-color: #E0F0FF; font-size: 135%;\" width=\"5%\"><a href=\"/wiki/List_of_postal_codes_of_Canada:_S\" title=\"List of postal codes of Canada: S\">S</a>\n </td>\n <td align=\"center\" style=\"border: 1px solid #0040FF; background-color: #E0E8FF; font-size: 135%;\" width=\"5%\"><a href=\"/wiki/List_of_postal_codes_of_Canada:_T\" title=\"List of postal codes of Canada: T\">T</a>\n </td>\n <td align=\"center\" style=\"border: 1px solid #0000FF; background-color: #E0E0FF; font-size: 135%;\" width=\"5%\"><a href=\"/wiki/List_of_postal_codes_of_Canada:_V\" title=\"List of postal codes of Canada: V\">V</a>\n </td>\n <td align=\"center\" style=\"border: 1px solid #A000FF; background-color: #E8E0FF; font-size: 135%;\" width=\"5%\"><a href=\"/wiki/List_of_postal_codes_of_Canada:_X\" title=\"List of postal codes of Canada: X\">X</a>\n </td>\n <td align=\"center\" style=\"border: 1px solid #FF00FF; background-color: #FFE0FF; font-size: 135%;\" width=\"5%\"><a href=\"/wiki/List_of_postal_codes_of_Canada:_Y\" title=\"List of postal codes of Canada: Y\">Y</a>\n </td></tr></tbody></table>\n </td></tr></tbody></table>, <table cellspacing=\"0\" style=\"background-color: #F8F8F8;\" width=\"100%\">\n <tbody><tr>\n <td style=\"text-align:center; border:1px solid #aaa;\"><a href=\"/wiki/Newfoundland_and_Labrador\" title=\"Newfoundland and Labrador\">NL</a>\n </td>\n <td style=\"text-align:center; border:1px solid #aaa;\"><a href=\"/wiki/Nova_Scotia\" title=\"Nova Scotia\">NS</a>\n </td>\n <td style=\"text-align:center; border:1px solid #aaa;\"><a href=\"/wiki/Prince_Edward_Island\" title=\"Prince Edward Island\">PE</a>\n </td>\n <td style=\"text-align:center; border:1px solid #aaa;\"><a href=\"/wiki/New_Brunswick\" title=\"New Brunswick\">NB</a>\n </td>\n <td colspan=\"3\" style=\"text-align:center; border:1px solid #aaa;\"><a href=\"/wiki/Quebec\" title=\"Quebec\">QC</a>\n </td>\n <td colspan=\"5\" style=\"text-align:center; border:1px solid #aaa;\"><a href=\"/wiki/Ontario\" title=\"Ontario\">ON</a>\n </td>\n <td style=\"text-align:center; border:1px solid #aaa;\"><a href=\"/wiki/Manitoba\" title=\"Manitoba\">MB</a>\n </td>\n <td style=\"text-align:center; border:1px solid #aaa;\"><a href=\"/wiki/Saskatchewan\" title=\"Saskatchewan\">SK</a>\n </td>\n <td style=\"text-align:center; border:1px solid #aaa;\"><a href=\"/wiki/Alberta\" title=\"Alberta\">AB</a>\n </td>\n <td style=\"text-align:center; border:1px solid #aaa;\"><a href=\"/wiki/British_Columbia\" title=\"British Columbia\">BC</a>\n </td>\n <td style=\"text-align:center; border:1px solid #aaa;\"><a href=\"/wiki/Nunavut\" title=\"Nunavut\">NU</a>/<a href=\"/wiki/Northwest_Territories\" title=\"Northwest Territories\">NT</a>\n </td>\n <td style=\"text-align:center; border:1px solid #aaa;\"><a href=\"/wiki/Yukon\" title=\"Yukon\">YT</a>\n </td></tr>\n <tr>\n <td align=\"center\" style=\"border: 1px solid #FF0000; background-color: #FFE0E0; font-size: 135%;\" width=\"5%\"><a href=\"/wiki/List_of_postal_codes_of_Canada:_A\" title=\"List of postal codes of Canada: A\">A</a>\n </td>\n <td align=\"center\" style=\"border: 1px solid #FF4000; background-color: #FFE8E0; font-size: 135%;\" width=\"5%\"><a href=\"/wiki/List_of_postal_codes_of_Canada:_B\" title=\"List of postal codes of Canada: B\">B</a>\n </td>\n <td align=\"center\" style=\"border: 1px solid #FF8000; background-color: #FFF0E0; font-size: 135%;\" width=\"5%\"><a href=\"/wiki/List_of_postal_codes_of_Canada:_C\" title=\"List of postal codes of Canada: C\">C</a>\n </td>\n <td align=\"center\" style=\"border: 1px solid #FFC000; background-color: #FFF8E0; font-size: 135%;\" width=\"5%\"><a href=\"/wiki/List_of_postal_codes_of_Canada:_E\" title=\"List of postal codes of Canada: E\">E</a>\n </td>\n <td align=\"center\" style=\"border: 1px solid #FFFF00; background-color: #FFFFE0; font-size: 135%;\" width=\"5%\"><a href=\"/wiki/List_of_postal_codes_of_Canada:_G\" title=\"List of postal codes of Canada: G\">G</a>\n </td>\n <td align=\"center\" style=\"border: 1px solid #C0FF00; background-color: #F8FFE0; font-size: 135%;\" width=\"5%\"><a href=\"/wiki/List_of_postal_codes_of_Canada:_H\" title=\"List of postal codes of Canada: H\">H</a>\n </td>\n <td align=\"center\" style=\"border: 1px solid #80FF00; background-color: #F0FFE0; font-size: 135%;\" width=\"5%\"><a href=\"/wiki/List_of_postal_codes_of_Canada:_J\" title=\"List of postal codes of Canada: J\">J</a>\n </td>\n <td align=\"center\" style=\"border: 1px solid #00FF00; background-color: #E0FFE0; font-size: 135%;\" width=\"5%\"><a href=\"/wiki/List_of_postal_codes_of_Canada:_K\" title=\"List of postal codes of Canada: K\">K</a>\n </td>\n <td align=\"center\" style=\"border: 1px solid #00FF80; background-color: #E0FFF0; font-size: 135%;\" width=\"5%\"><a href=\"/wiki/List_of_postal_codes_of_Canada:_L\" title=\"List of postal codes of Canada: L\">L</a>\n </td>\n <td align=\"center\" style=\"border: 1px solid #E0FFF8; background-color: #00FFC0; font-size: 135%; color: black;\" width=\"5%\"><a class=\"mw-selflink selflink\">M</a>\n </td>\n <td align=\"center\" style=\"border: 1px solid #00FFE0; background-color: #E0FFFC; font-size: 135%;\" width=\"5%\"><a href=\"/wiki/List_of_postal_codes_of_Canada:_N\" title=\"List of postal codes of Canada: N\">N</a>\n </td>\n <td align=\"center\" style=\"border: 1px solid #00FFFF; background-color: #E0FFFF; font-size: 135%;\" width=\"5%\"><a href=\"/wiki/List_of_postal_codes_of_Canada:_P\" title=\"List of postal codes of Canada: P\">P</a>\n </td>\n <td align=\"center\" style=\"border: 1px solid #00C0FF; background-color: #E0F8FF; font-size: 135%;\" width=\"5%\"><a href=\"/wiki/List_of_postal_codes_of_Canada:_R\" title=\"List of postal codes of Canada: R\">R</a>\n </td>\n <td align=\"center\" style=\"border: 1px solid #0080FF; background-color: #E0F0FF; font-size: 135%;\" width=\"5%\"><a href=\"/wiki/List_of_postal_codes_of_Canada:_S\" title=\"List of postal codes of Canada: S\">S</a>\n </td>\n <td align=\"center\" style=\"border: 1px solid #0040FF; background-color: #E0E8FF; font-size: 135%;\" width=\"5%\"><a href=\"/wiki/List_of_postal_codes_of_Canada:_T\" title=\"List of postal codes of Canada: T\">T</a>\n </td>\n <td align=\"center\" style=\"border: 1px solid #0000FF; background-color: #E0E0FF; font-size: 135%;\" width=\"5%\"><a href=\"/wiki/List_of_postal_codes_of_Canada:_V\" title=\"List of postal codes of Canada: V\">V</a>\n </td>\n <td align=\"center\" style=\"border: 1px solid #A000FF; background-color: #E8E0FF; font-size: 135%;\" width=\"5%\"><a href=\"/wiki/List_of_postal_codes_of_Canada:_X\" title=\"List of postal codes of Canada: X\">X</a>\n </td>\n <td align=\"center\" style=\"border: 1px solid #FF00FF; background-color: #FFE0FF; font-size: 135%;\" width=\"5%\"><a href=\"/wiki/List_of_postal_codes_of_Canada:_Y\" title=\"List of postal codes of Canada: Y\">Y</a>\n </td></tr></tbody></table>]"
                    },
                    "execution_count": 4,
                    "metadata": {},
                    "output_type": "execute_result"
                }
            ],
            "source": "# use the 'find_all' function to bring back all instances of the 'table' tag in the HTML and store in 'all_tables' variable\nall_tables=soup.find_all(\"table\")\nall_tables"
        },
        {
            "cell_type": "code",
            "execution_count": 5,
            "metadata": {},
            "outputs": [
                {
                    "data": {
                        "text/html": "<div>\n<style scoped>\n    .dataframe tbody tr th:only-of-type {\n        vertical-align: middle;\n    }\n\n    .dataframe tbody tr th {\n        vertical-align: top;\n    }\n\n    .dataframe thead th {\n        text-align: right;\n    }\n</style>\n<table border=\"1\" class=\"dataframe\">\n  <thead>\n    <tr style=\"text-align: right;\">\n      <th></th>\n      <th>Postalcode</th>\n      <th>Borough</th>\n      <th>Neighbourhood</th>\n    </tr>\n  </thead>\n  <tbody>\n    <tr>\n      <th>0</th>\n      <td>M1A</td>\n      <td>Not assigned</td>\n      <td>Not assigned</td>\n    </tr>\n    <tr>\n      <th>1</th>\n      <td>M2A</td>\n      <td>Not assigned</td>\n      <td>Not assigned</td>\n    </tr>\n    <tr>\n      <th>2</th>\n      <td>M3A</td>\n      <td>North York</td>\n      <td>Parkwoods</td>\n    </tr>\n    <tr>\n      <th>3</th>\n      <td>M4A</td>\n      <td>North York</td>\n      <td>Victoria Village</td>\n    </tr>\n    <tr>\n      <th>4</th>\n      <td>M5A</td>\n      <td>Downtown Toronto</td>\n      <td>Regent Park, Harbourfront</td>\n    </tr>\n    <tr>\n      <th>5</th>\n      <td>M6A</td>\n      <td>North York</td>\n      <td>Lawrence Manor, Lawrence Heights</td>\n    </tr>\n    <tr>\n      <th>6</th>\n      <td>M7A</td>\n      <td>Downtown Toronto</td>\n      <td>Queen's Park, Ontario Provincial Government</td>\n    </tr>\n    <tr>\n      <th>7</th>\n      <td>M8A</td>\n      <td>Not assigned</td>\n      <td>Not assigned</td>\n    </tr>\n    <tr>\n      <th>8</th>\n      <td>M9A</td>\n      <td>Etobicoke</td>\n      <td>Islington Avenue, Humber Valley Village</td>\n    </tr>\n    <tr>\n      <th>9</th>\n      <td>M1B</td>\n      <td>Scarborough</td>\n      <td>Malvern, Rouge</td>\n    </tr>\n    <tr>\n      <th>10</th>\n      <td>M2B</td>\n      <td>Not assigned</td>\n      <td>Not assigned</td>\n    </tr>\n    <tr>\n      <th>11</th>\n      <td>M3B</td>\n      <td>North York</td>\n      <td>Don Mills</td>\n    </tr>\n    <tr>\n      <th>12</th>\n      <td>M4B</td>\n      <td>East York</td>\n      <td>Parkview Hill, Woodbine Gardens</td>\n    </tr>\n    <tr>\n      <th>13</th>\n      <td>M5B</td>\n      <td>Downtown Toronto</td>\n      <td>Garden District, Ryerson</td>\n    </tr>\n    <tr>\n      <th>14</th>\n      <td>M6B</td>\n      <td>North York</td>\n      <td>Glencairn</td>\n    </tr>\n    <tr>\n      <th>15</th>\n      <td>M7B</td>\n      <td>Not assigned</td>\n      <td>Not assigned</td>\n    </tr>\n    <tr>\n      <th>16</th>\n      <td>M8B</td>\n      <td>Not assigned</td>\n      <td>Not assigned</td>\n    </tr>\n    <tr>\n      <th>17</th>\n      <td>M9B</td>\n      <td>Etobicoke</td>\n      <td>West Deane Park, Princess Gardens, Martin Grov...</td>\n    </tr>\n    <tr>\n      <th>18</th>\n      <td>M1C</td>\n      <td>Scarborough</td>\n      <td>Rouge Hill, Port Union, Highland Creek</td>\n    </tr>\n    <tr>\n      <th>19</th>\n      <td>M2C</td>\n      <td>Not assigned</td>\n      <td>Not assigned</td>\n    </tr>\n    <tr>\n      <th>20</th>\n      <td>M3C</td>\n      <td>North York</td>\n      <td>Don Mills</td>\n    </tr>\n    <tr>\n      <th>21</th>\n      <td>M4C</td>\n      <td>East York</td>\n      <td>Woodbine Heights</td>\n    </tr>\n    <tr>\n      <th>22</th>\n      <td>M5C</td>\n      <td>Downtown Toronto</td>\n      <td>St. James Town</td>\n    </tr>\n    <tr>\n      <th>23</th>\n      <td>M6C</td>\n      <td>York</td>\n      <td>Humewood-Cedarvale</td>\n    </tr>\n    <tr>\n      <th>24</th>\n      <td>M7C</td>\n      <td>Not assigned</td>\n      <td>Not assigned</td>\n    </tr>\n    <tr>\n      <th>25</th>\n      <td>M8C</td>\n      <td>Not assigned</td>\n      <td>Not assigned</td>\n    </tr>\n    <tr>\n      <th>26</th>\n      <td>M9C</td>\n      <td>Etobicoke</td>\n      <td>Eringate, Bloordale Gardens, Old Burnhamthorpe...</td>\n    </tr>\n    <tr>\n      <th>27</th>\n      <td>M1E</td>\n      <td>Scarborough</td>\n      <td>Guildwood, Morningside, West Hill</td>\n    </tr>\n    <tr>\n      <th>28</th>\n      <td>M2E</td>\n      <td>Not assigned</td>\n      <td>Not assigned</td>\n    </tr>\n    <tr>\n      <th>29</th>\n      <td>M3E</td>\n      <td>Not assigned</td>\n      <td>Not assigned</td>\n    </tr>\n    <tr>\n      <th>...</th>\n      <td>...</td>\n      <td>...</td>\n      <td>...</td>\n    </tr>\n    <tr>\n      <th>150</th>\n      <td>M7W</td>\n      <td>Not assigned</td>\n      <td>Not assigned</td>\n    </tr>\n    <tr>\n      <th>151</th>\n      <td>M8W</td>\n      <td>Etobicoke</td>\n      <td>Alderwood, Long Branch</td>\n    </tr>\n    <tr>\n      <th>152</th>\n      <td>M9W</td>\n      <td>Etobicoke</td>\n      <td>Northwest, West Humber - Clairville</td>\n    </tr>\n    <tr>\n      <th>153</th>\n      <td>M1X</td>\n      <td>Scarborough</td>\n      <td>Upper Rouge</td>\n    </tr>\n    <tr>\n      <th>154</th>\n      <td>M2X</td>\n      <td>Not assigned</td>\n      <td>Not assigned</td>\n    </tr>\n    <tr>\n      <th>155</th>\n      <td>M3X</td>\n      <td>Not assigned</td>\n      <td>Not assigned</td>\n    </tr>\n    <tr>\n      <th>156</th>\n      <td>M4X</td>\n      <td>Downtown Toronto</td>\n      <td>St. James Town, Cabbagetown</td>\n    </tr>\n    <tr>\n      <th>157</th>\n      <td>M5X</td>\n      <td>Downtown Toronto</td>\n      <td>First Canadian Place, Underground city</td>\n    </tr>\n    <tr>\n      <th>158</th>\n      <td>M6X</td>\n      <td>Not assigned</td>\n      <td>Not assigned</td>\n    </tr>\n    <tr>\n      <th>159</th>\n      <td>M7X</td>\n      <td>Not assigned</td>\n      <td>Not assigned</td>\n    </tr>\n    <tr>\n      <th>160</th>\n      <td>M8X</td>\n      <td>Etobicoke</td>\n      <td>The Kingsway, Montgomery Road, Old Mill North</td>\n    </tr>\n    <tr>\n      <th>161</th>\n      <td>M9X</td>\n      <td>Not assigned</td>\n      <td>Not assigned</td>\n    </tr>\n    <tr>\n      <th>162</th>\n      <td>M1Y</td>\n      <td>Not assigned</td>\n      <td>Not assigned</td>\n    </tr>\n    <tr>\n      <th>163</th>\n      <td>M2Y</td>\n      <td>Not assigned</td>\n      <td>Not assigned</td>\n    </tr>\n    <tr>\n      <th>164</th>\n      <td>M3Y</td>\n      <td>Not assigned</td>\n      <td>Not assigned</td>\n    </tr>\n    <tr>\n      <th>165</th>\n      <td>M4Y</td>\n      <td>Downtown Toronto</td>\n      <td>Church and Wellesley</td>\n    </tr>\n    <tr>\n      <th>166</th>\n      <td>M5Y</td>\n      <td>Not assigned</td>\n      <td>Not assigned</td>\n    </tr>\n    <tr>\n      <th>167</th>\n      <td>M6Y</td>\n      <td>Not assigned</td>\n      <td>Not assigned</td>\n    </tr>\n    <tr>\n      <th>168</th>\n      <td>M7Y</td>\n      <td>East Toronto</td>\n      <td>Business reply mail Processing Centre, South C...</td>\n    </tr>\n    <tr>\n      <th>169</th>\n      <td>M8Y</td>\n      <td>Etobicoke</td>\n      <td>Old Mill South, King's Mill Park, Sunnylea, Hu...</td>\n    </tr>\n    <tr>\n      <th>170</th>\n      <td>M9Y</td>\n      <td>Not assigned</td>\n      <td>Not assigned</td>\n    </tr>\n    <tr>\n      <th>171</th>\n      <td>M1Z</td>\n      <td>Not assigned</td>\n      <td>Not assigned</td>\n    </tr>\n    <tr>\n      <th>172</th>\n      <td>M2Z</td>\n      <td>Not assigned</td>\n      <td>Not assigned</td>\n    </tr>\n    <tr>\n      <th>173</th>\n      <td>M3Z</td>\n      <td>Not assigned</td>\n      <td>Not assigned</td>\n    </tr>\n    <tr>\n      <th>174</th>\n      <td>M4Z</td>\n      <td>Not assigned</td>\n      <td>Not assigned</td>\n    </tr>\n    <tr>\n      <th>175</th>\n      <td>M5Z</td>\n      <td>Not assigned</td>\n      <td>Not assigned</td>\n    </tr>\n    <tr>\n      <th>176</th>\n      <td>M6Z</td>\n      <td>Not assigned</td>\n      <td>Not assigned</td>\n    </tr>\n    <tr>\n      <th>177</th>\n      <td>M7Z</td>\n      <td>Not assigned</td>\n      <td>Not assigned</td>\n    </tr>\n    <tr>\n      <th>178</th>\n      <td>M8Z</td>\n      <td>Etobicoke</td>\n      <td>Mimico NW, The Queensway West, South of Bloor,...</td>\n    </tr>\n    <tr>\n      <th>179</th>\n      <td>M9Z</td>\n      <td>Not assigned</td>\n      <td>Not assigned</td>\n    </tr>\n  </tbody>\n</table>\n<p>180 rows \u00d7 3 columns</p>\n</div>",
                        "text/plain": "    Postalcode           Borough  \\\n0          M1A      Not assigned   \n1          M2A      Not assigned   \n2          M3A        North York   \n3          M4A        North York   \n4          M5A  Downtown Toronto   \n5          M6A        North York   \n6          M7A  Downtown Toronto   \n7          M8A      Not assigned   \n8          M9A         Etobicoke   \n9          M1B       Scarborough   \n10         M2B      Not assigned   \n11         M3B        North York   \n12         M4B         East York   \n13         M5B  Downtown Toronto   \n14         M6B        North York   \n15         M7B      Not assigned   \n16         M8B      Not assigned   \n17         M9B         Etobicoke   \n18         M1C       Scarborough   \n19         M2C      Not assigned   \n20         M3C        North York   \n21         M4C         East York   \n22         M5C  Downtown Toronto   \n23         M6C              York   \n24         M7C      Not assigned   \n25         M8C      Not assigned   \n26         M9C         Etobicoke   \n27         M1E       Scarborough   \n28         M2E      Not assigned   \n29         M3E      Not assigned   \n..         ...               ...   \n150        M7W      Not assigned   \n151        M8W         Etobicoke   \n152        M9W         Etobicoke   \n153        M1X       Scarborough   \n154        M2X      Not assigned   \n155        M3X      Not assigned   \n156        M4X  Downtown Toronto   \n157        M5X  Downtown Toronto   \n158        M6X      Not assigned   \n159        M7X      Not assigned   \n160        M8X         Etobicoke   \n161        M9X      Not assigned   \n162        M1Y      Not assigned   \n163        M2Y      Not assigned   \n164        M3Y      Not assigned   \n165        M4Y  Downtown Toronto   \n166        M5Y      Not assigned   \n167        M6Y      Not assigned   \n168        M7Y      East Toronto   \n169        M8Y         Etobicoke   \n170        M9Y      Not assigned   \n171        M1Z      Not assigned   \n172        M2Z      Not assigned   \n173        M3Z      Not assigned   \n174        M4Z      Not assigned   \n175        M5Z      Not assigned   \n176        M6Z      Not assigned   \n177        M7Z      Not assigned   \n178        M8Z         Etobicoke   \n179        M9Z      Not assigned   \n\n                                         Neighbourhood  \n0                                        Not assigned\n  \n1                                        Not assigned\n  \n2                                           Parkwoods\n  \n3                                    Victoria Village\n  \n4                           Regent Park, Harbourfront\n  \n5                    Lawrence Manor, Lawrence Heights\n  \n6         Queen's Park, Ontario Provincial Government\n  \n7                                        Not assigned\n  \n8             Islington Avenue, Humber Valley Village\n  \n9                                      Malvern, Rouge\n  \n10                                       Not assigned\n  \n11                                          Don Mills\n  \n12                    Parkview Hill, Woodbine Gardens\n  \n13                           Garden District, Ryerson\n  \n14                                          Glencairn\n  \n15                                       Not assigned\n  \n16                                       Not assigned\n  \n17   West Deane Park, Princess Gardens, Martin Grov...  \n18             Rouge Hill, Port Union, Highland Creek\n  \n19                                       Not assigned\n  \n20                                          Don Mills\n  \n21                                   Woodbine Heights\n  \n22                                     St. James Town\n  \n23                                 Humewood-Cedarvale\n  \n24                                       Not assigned\n  \n25                                       Not assigned\n  \n26   Eringate, Bloordale Gardens, Old Burnhamthorpe...  \n27                  Guildwood, Morningside, West Hill\n  \n28                                       Not assigned\n  \n29                                       Not assigned\n  \n..                                                 ...  \n150                                      Not assigned\n  \n151                            Alderwood, Long Branch\n  \n152               Northwest, West Humber - Clairville\n  \n153                                       Upper Rouge\n  \n154                                      Not assigned\n  \n155                                      Not assigned\n  \n156                       St. James Town, Cabbagetown\n  \n157            First Canadian Place, Underground city\n  \n158                                      Not assigned\n  \n159                                      Not assigned\n  \n160     The Kingsway, Montgomery Road, Old Mill North\n  \n161                                      Not assigned\n  \n162                                      Not assigned\n  \n163                                      Not assigned\n  \n164                                      Not assigned\n  \n165                              Church and Wellesley\n  \n166                                      Not assigned\n  \n167                                      Not assigned\n  \n168  Business reply mail Processing Centre, South C...  \n169  Old Mill South, King's Mill Park, Sunnylea, Hu...  \n170                                      Not assigned\n  \n171                                      Not assigned\n  \n172                                      Not assigned\n  \n173                                      Not assigned\n  \n174                                      Not assigned\n  \n175                                      Not assigned\n  \n176                                      Not assigned\n  \n177                                      Not assigned\n  \n178  Mimico NW, The Queensway West, South of Bloor,...  \n179                                      Not assigned\n  \n\n[180 rows x 3 columns]"
                    },
                    "execution_count": 5,
                    "metadata": {},
                    "output_type": "execute_result"
                }
            ],
            "source": "# Looking through the output of \u201dall_tables\u201d we can again see that the class id of our chosen table is \u201dwikitable sortable\u201d. \n# We can use this to get BS to only bring back the table data for this particular table and keep that in a variable called \u201dright_table\u201c\n\nright_table=soup.find('table', class_='wikitable sortable')\n\n# There are three columns in our table that we want to scrape the data from so we will set up three empty lists \n# (Postalcode, Borough, Neighbourhood) to store our data in\n\nPostalcode=[]\nBorough=[]\nNeighbourhood=[]\n\n#Using findAll function of Beautiful soup package I am getting all data from the table in the list\n\nfor row in right_table.findAll('tr'):\n    cells=row.findAll('td')\n    if len(cells)==3:\n        Postalcode.append(cells[0].find(text=True).rstrip(\"\\n\"))\n        Borough.append(cells[1].find(text=True).rstrip(\"\\n\"))\n        Neighbourhood.append(cells[2].find(text=True))\n        \n#Define my Toronto Data Frame using the lists above\n\ntorontodf=pd.DataFrame(Postalcode,columns=['Postalcode'])\ntorontodf['Borough']=Borough\ntorontodf['Neighbourhood']=Neighbourhood\ntorontodf\n\n"
        },
        {
            "cell_type": "code",
            "execution_count": 6,
            "metadata": {},
            "outputs": [
                {
                    "data": {
                        "text/plain": "(103, 3)"
                    },
                    "execution_count": 6,
                    "metadata": {},
                    "output_type": "execute_result"
                }
            ],
            "source": "# As the data is sufficiently clean (no duplicate Postalcode, no empty Neighborhood) I am just removing rows where Borough = 'Not assigned'\ntorontodf.drop(torontodf[torontodf.Borough == 'Not assigned'].index, inplace=True)\ntorontodf.shape"
        },
        {
            "cell_type": "markdown",
            "metadata": {},
            "source": "## This ends section 1 of the assignment\n\n***\n    "
        },
        {
            "cell_type": "markdown",
            "metadata": {},
            "source": "***\n\n## Section 2 of the assignment\n\nGetting longitude and latitude of each Postalcode"
        },
        {
            "cell_type": "code",
            "execution_count": 7,
            "metadata": {},
            "outputs": [
                {
                    "data": {
                        "text/html": "<div>\n<style scoped>\n    .dataframe tbody tr th:only-of-type {\n        vertical-align: middle;\n    }\n\n    .dataframe tbody tr th {\n        vertical-align: top;\n    }\n\n    .dataframe thead th {\n        text-align: right;\n    }\n</style>\n<table border=\"1\" class=\"dataframe\">\n  <thead>\n    <tr style=\"text-align: right;\">\n      <th></th>\n      <th>Postal Code</th>\n      <th>Latitude</th>\n      <th>Longitude</th>\n    </tr>\n  </thead>\n  <tbody>\n    <tr>\n      <th>0</th>\n      <td>M1B</td>\n      <td>43.806686</td>\n      <td>-79.194353</td>\n    </tr>\n    <tr>\n      <th>1</th>\n      <td>M1C</td>\n      <td>43.784535</td>\n      <td>-79.160497</td>\n    </tr>\n    <tr>\n      <th>2</th>\n      <td>M1E</td>\n      <td>43.763573</td>\n      <td>-79.188711</td>\n    </tr>\n    <tr>\n      <th>3</th>\n      <td>M1G</td>\n      <td>43.770992</td>\n      <td>-79.216917</td>\n    </tr>\n    <tr>\n      <th>4</th>\n      <td>M1H</td>\n      <td>43.773136</td>\n      <td>-79.239476</td>\n    </tr>\n  </tbody>\n</table>\n</div>",
                        "text/plain": "  Postal Code   Latitude  Longitude\n0         M1B  43.806686 -79.194353\n1         M1C  43.784535 -79.160497\n2         M1E  43.763573 -79.188711\n3         M1G  43.770992 -79.216917\n4         M1H  43.773136 -79.239476"
                    },
                    "execution_count": 7,
                    "metadata": {},
                    "output_type": "execute_result"
                }
            ],
            "source": "#Getting the postcodes from the URL and adding to a pandas dataframe\npostcodes = pd.read_csv(\"http://cocl.us/Geospatial_data\")\npostcodes.head()"
        },
        {
            "cell_type": "code",
            "execution_count": 8,
            "metadata": {},
            "outputs": [
                {
                    "data": {
                        "text/html": "<div>\n<style scoped>\n    .dataframe tbody tr th:only-of-type {\n        vertical-align: middle;\n    }\n\n    .dataframe tbody tr th {\n        vertical-align: top;\n    }\n\n    .dataframe thead th {\n        text-align: right;\n    }\n</style>\n<table border=\"1\" class=\"dataframe\">\n  <thead>\n    <tr style=\"text-align: right;\">\n      <th></th>\n      <th>Postalcode</th>\n      <th>Borough</th>\n      <th>Neighbourhood</th>\n      <th>Latitude</th>\n      <th>Longitude</th>\n    </tr>\n  </thead>\n  <tbody>\n    <tr>\n      <th>0</th>\n      <td>M3A</td>\n      <td>North York</td>\n      <td>Parkwoods</td>\n      <td>43.753259</td>\n      <td>-79.329656</td>\n    </tr>\n    <tr>\n      <th>1</th>\n      <td>M4A</td>\n      <td>North York</td>\n      <td>Victoria Village</td>\n      <td>43.725882</td>\n      <td>-79.315572</td>\n    </tr>\n    <tr>\n      <th>2</th>\n      <td>M5A</td>\n      <td>Downtown Toronto</td>\n      <td>Regent Park, Harbourfront</td>\n      <td>43.654260</td>\n      <td>-79.360636</td>\n    </tr>\n    <tr>\n      <th>3</th>\n      <td>M6A</td>\n      <td>North York</td>\n      <td>Lawrence Manor, Lawrence Heights</td>\n      <td>43.718518</td>\n      <td>-79.464763</td>\n    </tr>\n    <tr>\n      <th>4</th>\n      <td>M7A</td>\n      <td>Downtown Toronto</td>\n      <td>Queen's Park, Ontario Provincial Government</td>\n      <td>43.662301</td>\n      <td>-79.389494</td>\n    </tr>\n  </tbody>\n</table>\n</div>",
                        "text/plain": "  Postalcode           Borough                                 Neighbourhood  \\\n0        M3A        North York                                    Parkwoods\n   \n1        M4A        North York                             Victoria Village\n   \n2        M5A  Downtown Toronto                    Regent Park, Harbourfront\n   \n3        M6A        North York             Lawrence Manor, Lawrence Heights\n   \n4        M7A  Downtown Toronto  Queen's Park, Ontario Provincial Government\n   \n\n    Latitude  Longitude  \n0  43.753259 -79.329656  \n1  43.725882 -79.315572  \n2  43.654260 -79.360636  \n3  43.718518 -79.464763  \n4  43.662301 -79.389494  "
                    },
                    "execution_count": 8,
                    "metadata": {},
                    "output_type": "execute_result"
                }
            ],
            "source": "# Merge the dataframes into another dataframe based on Postalcode\n# First I have to rename a column in the postcode df to match the column in the toronto df\npostcodes.rename(columns={\"Postal Code\": \"Postalcode\"}, inplace=True)\ntorontopostcodedf = pd.merge(torontodf, postcodes, how='outer', on=['Postalcode'])\ntorontopostcodedf.head()                                                          "
        },
        {
            "cell_type": "markdown",
            "metadata": {},
            "source": "## This ends section 2 of the assignment\n\n***"
        },
        {
            "cell_type": "markdown",
            "metadata": {},
            "source": "***\n\n## Section 3 of the assignment\n\nExplore and cluster the neighborhoods in Toronto"
        },
        {
            "cell_type": "code",
            "execution_count": null,
            "metadata": {},
            "outputs": [
                {
                    "name": "stdout",
                    "output_type": "stream",
                    "text": "Solving environment: done\n\n## Package Plan ##\n\n  environment location: /opt/conda/envs/Python36\n\n  added / updated specs: \n    - geopy\n\n\nThe following packages will be downloaded:\n\n    package                    |            build\n    ---------------------------|-----------------\n    certifi-2020.6.20          |   py36h9f0ad1d_0         151 KB  conda-forge\n    geographiclib-1.50         |             py_0          34 KB  conda-forge\n    geopy-2.0.0                |     pyh9f0ad1d_0          63 KB  conda-forge\n    python_abi-3.6             |          1_cp36m           4 KB  conda-forge\n    ca-certificates-2020.6.20  |       hecda079_0         145 KB  conda-forge\n    openssl-1.1.1g             |       h516909a_0         2.1 MB  conda-forge\n    ------------------------------------------------------------\n                                           Total:         2.5 MB\n\nThe following NEW packages will be INSTALLED:\n\n    geographiclib:   1.50-py_0          conda-forge\n    geopy:           2.0.0-pyh9f0ad1d_0 conda-forge\n    python_abi:      3.6-1_cp36m        conda-forge\n\nThe following packages will be UPDATED:\n\n    certifi:         2020.6.20-py36_0               --> 2020.6.20-py36h9f0ad1d_0 conda-forge\n    openssl:         1.1.1g-h7b6447c_0              --> 1.1.1g-h516909a_0        conda-forge\n\nThe following packages will be DOWNGRADED:\n\n    ca-certificates: 2020.6.24-0                    --> 2020.6.20-hecda079_0     conda-forge\n\n\nDownloading and Extracting Packages\ncertifi-2020.6.20    | 151 KB    | ##################################### | 100% \ngeographiclib-1.50   | 34 KB     | ##################################### | 100% \ngeopy-2.0.0          | 63 KB     | ##################################### | 100% \npython_abi-3.6       | 4 KB      | ##################################### | 100% \nca-certificates-2020 | 145 KB    | ##################################### | 100% \nopenssl-1.1.1g       | 2.1 MB    | ##################################### | 100% \nPreparing transaction: done\nVerifying transaction: done\nExecuting transaction: done\nSolving environment: - "
                }
            ],
            "source": "# Importing the necessary libraries\n\nimport numpy as np # library to handle data in a vectorized manner\n\nimport pandas as pd # library for data analsysis\npd.set_option('display.max_columns', None)\npd.set_option('display.max_rows', None)\n\nimport json # library to handle JSON files\n\n!conda install -c conda-forge geopy --yes \nfrom geopy.geocoders import Nominatim # convert an address into latitude and longitude values\n\nimport requests # library to handle requests\nfrom pandas.io.json import json_normalize # tranform JSON file into a pandas dataframe\n\n# Matplotlib and associated plotting modules\nimport matplotlib.cm as cm\nimport matplotlib.colors as colors\n\n# import k-means from clustering stage\nfrom sklearn.cluster import KMeans\n\n!conda install -c conda-forge folium=0.5.0 --yes \nimport folium # map rendering library\n\nprint('Libraries imported.')"
        },
        {
            "cell_type": "markdown",
            "metadata": {},
            "source": "The Foursquare API credentials definition follows in an hidden cells"
        },
        {
            "cell_type": "code",
            "execution_count": null,
            "metadata": {},
            "outputs": [],
            "source": "# The code was removed by Watson Studio for sharing."
        },
        {
            "cell_type": "markdown",
            "metadata": {},
            "source": "Use geopy library to get the latitude and longitude values of Toronto.\nIn order to define an instance of the geocoder, we need to define a user_agent. We will name our agent my_explorer, as shown below."
        },
        {
            "cell_type": "code",
            "execution_count": null,
            "metadata": {},
            "outputs": [],
            "source": "address = 'Toronto, Canada'\n\ngeolocator = Nominatim(user_agent=\"my_explorer\")\nlocation = geolocator.geocode(address)\nlatitude = location.latitude\nlongitude = location.longitude\nprint('The geograpical coordinate of Toronto are {}, {}.'.format(latitude, longitude))"
        },
        {
            "cell_type": "markdown",
            "metadata": {},
            "source": "Create a map of Toronto with neighborhoods superimposed on top."
        },
        {
            "cell_type": "code",
            "execution_count": null,
            "metadata": {},
            "outputs": [],
            "source": "# create map of New York using latitude and longitude values\nmap_toronto = folium.Map(location=[latitude, longitude], zoom_start=10)\n\n# add markers to map\nfor lat, lng, borough, neighborhood in zip(torontopostcodedf['Latitude'], torontopostcodedf['Longitude'], torontopostcodedf['Borough'], torontopostcodedf['Neighborhood']):\n    label = '{}, {}'.format(neighborhood, borough)\n    label = folium.Popup(label, parse_html=True)\n    folium.CircleMarker(\n        [lat, lng],\n        radius=5,\n        popup=label,\n        color='blue',\n        fill=True,\n        fill_color='#3186cc',\n        fill_opacity=0.7,\n        parse_html=False).add_to(map_toronto)  \n    \nmap_toronto"
        },
        {
            "cell_type": "markdown",
            "metadata": {},
            "source": "In order to reduce the dataset we will filter only boroughs that contain the word Toronto."
        },
        {
            "cell_type": "code",
            "execution_count": null,
            "metadata": {},
            "outputs": [],
            "source": "toronto_data = torontopostcodedf[torontopostcodedf['Borough'].__contains__('Toronto')].reset_index(drop=True)\ntoronto_data.head()"
        },
        {
            "cell_type": "code",
            "execution_count": null,
            "metadata": {},
            "outputs": [],
            "source": "let's visualize the restricter set of neighborhoods"
        },
        {
            "cell_type": "code",
            "execution_count": null,
            "metadata": {},
            "outputs": [],
            "source": "# create map of Toronto using latitude and longitude values\nmap_toronto2 = folium.Map(location=[latitude, longitude], zoom_start=11)\n\n# add markers to map\nfor lat, lng, label in zip(toronto_data['Latitude'], toronto_data['Longitude'], toronto_data['Neighborhood']):\n    label = folium.Popup(label, parse_html=True)\n    folium.CircleMarker(\n        [lat, lng],\n        radius=5,\n        popup=label,\n        color='blue',\n        fill=True,\n        fill_color='#3186cc',\n        fill_opacity=0.7,\n        parse_html=False).add_to(map_toronto2)  \n    \nmap_toronto2"
        },
        {
            "cell_type": "markdown",
            "metadata": {},
            "source": "Let's create a function to collect venues from to all the neighborhoods in Toronto"
        },
        {
            "cell_type": "code",
            "execution_count": null,
            "metadata": {},
            "outputs": [],
            "source": "def getNearbyVenues(names, latitudes, longitudes, radius=500):\n    \n    venues_list=[]\n    for name, lat, lng in zip(names, latitudes, longitudes):\n        print(name)\n            \n        # create the API request URL\n        url = 'https://api.foursquare.com/v2/venues/explore?&client_id={}&client_secret={}&v={}&ll={},{}&radius={}&limit={}'.format(\n            CLIENT_ID, \n            CLIENT_SECRET, \n            VERSION, \n            lat, \n            lng, \n            radius, \n            LIMIT)\n            \n        # make the GET request\n        results = requests.get(url).json()[\"response\"]['groups'][0]['items']\n        #results = requests.get(url).json()#['response']['venues'] #FN Added\n        #print(results)#FN Added\n        \n        # return only relevant information for each nearby venue\n        venues_list.append([(\n            name, \n            lat, \n            lng, \n            v['venue']['name'], \n            v['venue']['location']['lat'], \n            v['venue']['location']['lng'],  \n            v['venue']['categories'][0]['name']) for v in results])\n\n    nearby_venues = pd.DataFrame([item for venue_list in venues_list for item in venue_list])\n    nearby_venues.columns = ['Neighborhood', \n                  'Neighborhood Latitude', \n                  'Neighborhood Longitude', \n                  'Venue', \n                  'Venue Latitude', \n                  'Venue Longitude', \n                  'Venue Category']\n    \n    return(nearby_venues)"
        },
        {
            "cell_type": "markdown",
            "metadata": {},
            "source": "Now write the code to run the above function on each neighborhood and create a new dataframe called manhattan_venues."
        },
        {
            "cell_type": "code",
            "execution_count": null,
            "metadata": {},
            "outputs": [],
            "source": "toronto_venues = getNearbyVenues(names=toronto_data['Neighborhood'],\n                                   latitudes=toronto_data['Latitude'],\n                                   longitudes=toronto_data['Longitude']\n                                  )"
        },
        {
            "cell_type": "markdown",
            "metadata": {},
            "source": "We check the size of the new dataframe"
        },
        {
            "cell_type": "code",
            "execution_count": null,
            "metadata": {},
            "outputs": [],
            "source": "print(toronto_venues.shape)\ntoronto_venues.head()"
        },
        {
            "cell_type": "markdown",
            "metadata": {},
            "source": "Let's check how many venues were returned for each neighborhood"
        },
        {
            "cell_type": "code",
            "execution_count": null,
            "metadata": {},
            "outputs": [],
            "source": "toronto_venues.groupby('Neighborhood').count()"
        },
        {
            "cell_type": "markdown",
            "metadata": {},
            "source": "#### Analyze Each Neighborhood"
        },
        {
            "cell_type": "code",
            "execution_count": null,
            "metadata": {},
            "outputs": [],
            "source": "# one hot encoding\ntoronto_onehot = pd.get_dummies(toronto_venues[['Venue Category']], prefix=\"\", prefix_sep=\"\")\n\n# add neighborhood column back to dataframe\ntoronto_onehot['Neighborhood'] = toronto_venues['Neighborhood'] \n\n# move neighborhood column to the first column\nfixed_columns = [toronto_onehot.columns[-1]] + list(toronto_onehot.columns[:-1])\ntoronto_onehot = toronto_onehot[fixed_columns]\n\ntoronto_onehot.head()"
        },
        {
            "cell_type": "code",
            "execution_count": null,
            "metadata": {},
            "outputs": [],
            "source": "#  let's examine the new dataframe size.\ntoronto_onehot.shape"
        },
        {
            "cell_type": "code",
            "execution_count": null,
            "metadata": {},
            "outputs": [],
            "source": "# Next, let's group rows by neighborhood and by taking the mean of the frequency of occurrence of each category\ntoronto_grouped = toronto_onehot.groupby('Neighborhood').mean().reset_index()\ntoronto_grouped"
        },
        {
            "cell_type": "markdown",
            "metadata": {},
            "source": "#### Cluster Neighborhoods\n\nRun k-means to cluster the neighborhood into 5 clusters."
        },
        {
            "cell_type": "code",
            "execution_count": null,
            "metadata": {},
            "outputs": [],
            "source": "# set number of clusters\nkclusters = 5\n\ntoronto_grouped_clustering = toronto_grouped.drop('Neighborhood', 1)\n\n# run k-means clustering\nkmeans = KMeans(n_clusters=kclusters, random_state=0).fit(toronto_grouped_clustering)\n\n# check cluster labels generated for each row in the dataframe\nkmeans.labels_[0:10] "
        },
        {
            "cell_type": "markdown",
            "metadata": {},
            "source": "Let's write a function to sort the venues in descending order"
        },
        {
            "cell_type": "code",
            "execution_count": null,
            "metadata": {},
            "outputs": [],
            "source": "def return_most_common_venues(row, num_top_venues):\n    row_categories = row.iloc[1:]\n    row_categories_sorted = row_categories.sort_values(ascending=False)\n    \n    return row_categories_sorted.index.values[0:num_top_venues]"
        },
        {
            "cell_type": "markdown",
            "metadata": {},
            "source": "let's create the new dataframe and display the top 10 venues for each neighborhood."
        },
        {
            "cell_type": "code",
            "execution_count": null,
            "metadata": {},
            "outputs": [],
            "source": "num_top_venues = 10\n\nindicators = ['st', 'nd', 'rd']\n\n# create columns according to number of top venues\ncolumns = ['Neighborhood']\nfor ind in np.arange(num_top_venues):\n    try:\n        columns.append('{}{} Most Common Venue'.format(ind+1, indicators[ind]))\n    except:\n        columns.append('{}th Most Common Venue'.format(ind+1))\n\n# create a new dataframe\nneighborhoods_venues_sorted = pd.DataFrame(columns=columns)\nneighborhoods_venues_sorted['Neighborhood'] = toronto_grouped['Neighborhood']\n\nfor ind in np.arange(toronto_grouped.shape[0]):\n    neighborhoods_venues_sorted.iloc[ind, 1:] = return_most_common_venues(toronto_grouped.iloc[ind, :], num_top_venues)\n\nneighborhoods_venues_sorted.head()\n"
        },
        {
            "cell_type": "markdown",
            "metadata": {},
            "source": "Let's create a new dataframe that includes the cluster as well as the top 10 venues for each neighborhood."
        },
        {
            "cell_type": "code",
            "execution_count": null,
            "metadata": {},
            "outputs": [],
            "source": "# add clustering labels\nneighborhoods_venues_sorted.insert(0, 'Cluster Labels', kmeans.labels_)\n\ntoronto_merged = toronto_data\n\n# merge toronto_grouped with toronto_data to add latitude/longitude for each neighborhood\ntoronto_merged = toronto_merged.join(neighborhoods_venues_sorted.set_index('Neighborhood'), on='Neighborhood')\n\ntoronto_merged.head() # check the last columns!\n"
        },
        {
            "cell_type": "code",
            "execution_count": null,
            "metadata": {},
            "outputs": [],
            "source": "Finally, let's visualize the resulting clusters"
        },
        {
            "cell_type": "code",
            "execution_count": null,
            "metadata": {},
            "outputs": [],
            "source": "# create map\nmap_clusters = folium.Map(location=[latitude, longitude], zoom_start=11)\n\n# set color scheme for the clusters\nx = np.arange(kclusters)\nys = [i + x + (i*x)**2 for i in range(kclusters)]\ncolors_array = cm.rainbow(np.linspace(0, 1, len(ys)))\nrainbow = [colors.rgb2hex(i) for i in colors_array]\n\n# add markers to the map\nmarkers_colors = []\nfor lat, lon, poi, cluster in zip(toronto_merged['Latitude'], toronto_merged['Longitude'], toronto_merged['Neighborhood'], toronto_merged['Cluster Labels']):\n    label = folium.Popup(str(poi) + ' Cluster ' + str(cluster), parse_html=True)\n    folium.CircleMarker(\n        [lat, lon],\n        radius=5,\n        popup=label,\n        color=rainbow[cluster-1],\n        fill=True,\n        fill_color=rainbow[cluster-1],\n        fill_opacity=0.7).add_to(map_clusters)\n       \nmap_clusters"
        },
        {
            "cell_type": "markdown",
            "metadata": {},
            "source": "#### Examining the resulting Clusters"
        },
        {
            "cell_type": "markdown",
            "metadata": {},
            "source": "##### Cluster 1: ....."
        },
        {
            "cell_type": "code",
            "execution_count": null,
            "metadata": {},
            "outputs": [],
            "source": "toronto_merged.loc[toronto_merged['Cluster Labels'] == 0, toronto_merged.columns[[1] + list(range(5, toronto_merged.shape[1]))]]"
        },
        {
            "cell_type": "markdown",
            "metadata": {},
            "source": "##### Cluster 2: ....."
        },
        {
            "cell_type": "code",
            "execution_count": null,
            "metadata": {},
            "outputs": [],
            "source": "toronto_merged.loc[toronto_merged['Cluster Labels'] == 1, toronto_merged.columns[[1] + list(range(5, toronto_merged.shape[1]))]]"
        },
        {
            "cell_type": "markdown",
            "metadata": {},
            "source": "##### Cluster 3: ....."
        },
        {
            "cell_type": "code",
            "execution_count": null,
            "metadata": {},
            "outputs": [],
            "source": "toronto_merged.loc[toronto_merged['Cluster Labels'] == 2, toronto_merged.columns[[1] + list(range(5, toronto_merged.shape[1]))]]"
        },
        {
            "cell_type": "markdown",
            "metadata": {},
            "source": "##### Cluster 4: ....."
        },
        {
            "cell_type": "code",
            "execution_count": null,
            "metadata": {},
            "outputs": [],
            "source": "toronto_merged.loc[toronto_merged['Cluster Labels'] == 3, toronto_merged.columns[[1] + list(range(5, toronto_merged.shape[1]))]]"
        },
        {
            "cell_type": "markdown",
            "metadata": {},
            "source": "##### Cluster 5: ....."
        },
        {
            "cell_type": "code",
            "execution_count": null,
            "metadata": {},
            "outputs": [],
            "source": "toronto_merged.loc[toronto_merged['Cluster Labels'] == 4, toronto_merged.columns[[1] + list(range(5, toronto_merged.shape[1]))]]"
        },
        {
            "cell_type": "markdown",
            "metadata": {},
            "source": "## This ends section 3 of the assignment\n\n***"
        }
    ],
    "metadata": {
        "kernelspec": {
            "display_name": "Python 3.6",
            "language": "python",
            "name": "python3"
        },
        "language_info": {
            "codemirror_mode": {
                "name": "ipython",
                "version": 3
            },
            "file_extension": ".py",
            "mimetype": "text/x-python",
            "name": "python",
            "nbconvert_exporter": "python",
            "pygments_lexer": "ipython3",
            "version": "3.6.9"
        }
    },
    "nbformat": 4,
    "nbformat_minor": 1
}