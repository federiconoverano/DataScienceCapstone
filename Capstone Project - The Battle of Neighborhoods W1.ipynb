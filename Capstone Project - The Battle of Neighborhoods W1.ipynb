{
    "cells": [
        {
            "cell_type": "markdown",
            "metadata": {
                "collapsed": true
            },
            "source": "# Section 1: Business problem description"
        },
        {
            "cell_type": "markdown",
            "metadata": {},
            "source": "## Introduction"
        },
        {
            "cell_type": "markdown",
            "metadata": {},
            "source": "A very successfull Italian food chain, have recently opened 5 restaurants in Warsaw, which share similar atmosphere, menu, furniture-style, processes, tools and raw material providers.\nThe restaurants have been very successfull due to online marketing messages, link to blogs/internet influencers, fashion newspaper as well as due to  efficient cost structure and with an high pricing point.\nThe company which owns the company had come to know that there is the possibility to get both EU and local funding for investing in Hungary and is considering the opportunity to launch five restaurants in Budapest, so it turned to our company to make a similarity analysis between Warsaw and Budapest in terms of existing venues and distribution, to validate the idea.\nThe target audience are the decision maker for the invesement: the CEO, COO and CMO, however an extract of the report shall be made available to the shareholders to document the outcome of the decision"
        },
        {
            "cell_type": "markdown",
            "metadata": {},
            "source": "## The locations"
        },
        {
            "cell_type": "markdown",
            "metadata": {},
            "source": "The analysis will be performed comparing Warsaw and Budapest districts, the existing restaurants, pubs, and other attractions"
        },
        {
            "cell_type": "markdown",
            "metadata": {},
            "source": "## Foursquare API"
        },
        {
            "cell_type": "markdown",
            "metadata": {},
            "source": "This project would use Four-square API as its prime data gathering source as it has a database of millions of places, especially their places API which provides the ability to perform location search, location sharing and details about a business."
        },
        {
            "cell_type": "markdown",
            "metadata": {},
            "source": "## Work Flow"
        },
        {
            "cell_type": "markdown",
            "metadata": {},
            "source": "Using credentials of Foursquare API features of near-by places of the neighborhoods would be mined. Due to http request limitations the number of places per neighborhood parameter would reasonably be set to 100 and the radius parameter would be set to 500."
        },
        {
            "cell_type": "markdown",
            "metadata": {},
            "source": "## Clustering Approach"
        },
        {
            "cell_type": "markdown",
            "metadata": {},
            "source": "To compare the similarities of the two cities, we decided to explore neighborhoods, segment them, and group them into clusters to find similar neighborhoods between them. To be able to do that, we need to cluster data which is a form of unsupervised machine learning: k-means clustering algorithm"
        },
        {
            "cell_type": "markdown",
            "metadata": {},
            "source": "## Libraries Which are Used to Develope the Project"
        },
        {
            "cell_type": "markdown",
            "metadata": {},
            "source": "Pandas: For creating and manipulating dataframes.\n\nFolium: Python visualization library would be used to visualize the neighborhoods cluster distribution of using interactive leaflet map.\n\nScikit Learn: For importing k-means clustering.\n\nJSON: Library to handle JSON files.\n\nXML: To separate data from presentation and XML stores data in plain text format.\n\nGeocoder: To retrieve Location Data.\n\nBeautiful Soup and Requests: To scrap and library to handle http requests.\n\nMatplotlib: Python Plotting Module."
        },
        {
            "cell_type": "markdown",
            "metadata": {},
            "source": "# Section 2: Data Description"
        },
        {
            "cell_type": "markdown",
            "metadata": {},
            "source": "The main data sources will be \n\n1) the list of districts of Warsaw and Budapest with their population which are available at \n\nhttps://pl.wikipedia.org/wiki/Podzia%C5%82_administracyjny_Warszawy\n    \nhttps://en.wikipedia.org/wiki/List_of_districts_in_Budapest\n\n2) The longitude and latitude of each district which will be retreived from the Geocoder API\n\n3) The foursquare API data from venues\n"
        },
        {
            "cell_type": "markdown",
            "metadata": {},
            "source": "## Foursquare API"
        },
        {
            "cell_type": "markdown",
            "metadata": {},
            "source": "We will need data about different venues in different neighborhoods of that specific borough. In order to gain that information we will use \"Foursquare\" locational information. \n\nFoursquare is a location data provider with information about all manner of venues and events within an area of interest. Such information includes venue names, locations, menus and even photos. As such, the foursquare location platform will be used as the sole data source since all the stated required information can be obtained through the API.\n\nAfter finding the list of neighborhoods, we then connect to the Foursquare API to gather information about venues inside each and every neighborhood. For each neighborhood, we have chosen the radius to be 100 meter.\n\nThe data retrieved from Foursquare contained information of venues within a specified distance of the longitude and latitude of the postcodes. The information obtained per venue as follows:\n\n1. Neighborhood\n2. Neighborhood Latitude\n3. Neighborhood Longitude\n4. Venue\n5. Name of the venue e.g. the name of a store or restaurant\n6. Venue Latitude\n7. Venue Longitude\n8. Venue Category"
        },
        {
            "cell_type": "code",
            "execution_count": null,
            "metadata": {},
            "outputs": [],
            "source": ""
        }
    ],
    "metadata": {
        "kernelspec": {
            "display_name": "Python 3.6",
            "language": "python",
            "name": "python3"
        },
        "language_info": {
            "codemirror_mode": {
                "name": "ipython",
                "version": 3
            },
            "file_extension": ".py",
            "mimetype": "text/x-python",
            "name": "python",
            "nbconvert_exporter": "python",
            "pygments_lexer": "ipython3",
            "version": "3.6.9"
        }
    },
    "nbformat": 4,
    "nbformat_minor": 1
}